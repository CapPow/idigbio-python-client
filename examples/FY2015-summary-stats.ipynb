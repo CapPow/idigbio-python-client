{
 "cells": [
  {
   "cell_type": "code",
   "execution_count": 337,
   "metadata": {
    "collapsed": true
   },
   "outputs": [],
   "source": [
    "import pandas as pd\n",
    "from collections import Counter\n",
    "import matplotlib.pyplot as plt\n",
    "%matplotlib inline"
   ]
  },
  {
   "cell_type": "code",
   "execution_count": 301,
   "metadata": {
    "collapsed": true
   },
   "outputs": [],
   "source": [
    "from idigbio import pandas, json\n",
    "j = json()"
   ]
  },
  {
   "cell_type": "code",
   "execution_count": 213,
   "metadata": {
    "collapsed": false
   },
   "outputs": [
    {
     "data": {
      "text/plain": [
       "Counter({'a': 14, 'count': 2})"
      ]
     },
     "execution_count": 213,
     "metadata": {},
     "output_type": "execute_result"
    }
   ],
   "source": [
    "def sumseries(series):\n",
    "    c= Counter()\n",
    "    c['count'] = 0\n",
    "    for s in series:\n",
    "        c.update(s)\n",
    "        c['count'] += 1\n",
    "    return c\n",
    "\n",
    "sumseries([{'a':1}, {'a':13}])"
   ]
  },
  {
   "cell_type": "code",
   "execution_count": 297,
   "metadata": {
    "collapsed": false
   },
   "outputs": [
    {
     "data": {
      "text/plain": [
       "['2015-07-01',\n",
       " '2015-08-01',\n",
       " '2015-09-01',\n",
       " '2015-10-01',\n",
       " '2015-11-01',\n",
       " '2015-12-01',\n",
       " '2016-01-01',\n",
       " '2016-02-01',\n",
       " '2016-03-01',\n",
       " '2016-04-01']"
      ]
     },
     "execution_count": 297,
     "metadata": {},
     "output_type": "execute_result"
    }
   ],
   "source": [
    "ssmonthly = j.stats(\n",
    "    'search', date_interval='month',\n",
    "    min_date='2015-07-01', max_date='2016-04-30')['dates']\n",
    "sorted(ssmonthly.keys())"
   ]
  },
  {
   "cell_type": "code",
   "execution_count": 306,
   "metadata": {
    "collapsed": false
   },
   "outputs": [
    {
     "data": {
      "text/plain": [
       "(45, '2015-06-29', '2016-05-02')"
      ]
     },
     "execution_count": 306,
     "metadata": {},
     "output_type": "execute_result"
    }
   ],
   "source": [
    "ssweekly = j.stats(\n",
    "    'search', date_interval='week',\n",
    "    min_date='2015-06-29', max_date='2016-05-08')['dates']\n",
    "len(ssweekly.keys()), min(ssweekly.keys()), max(ssweekly.keys())"
   ]
  },
  {
   "cell_type": "code",
   "execution_count": 330,
   "metadata": {
    "collapsed": true
   },
   "outputs": [],
   "source": [
    "statsbymonth = {mon: sumseries(data.values())\n",
    "                for mon, data in ssmonthly.items()}\n",
    "totals = sumseries(statsbymonth.values())\n",
    "df = pd.DataFrame.from_dict(statsbymonth, orient='index')\n",
    "dfmonth = df[['search','seen','download', 'viewed_records', 'viewed_media']]"
   ]
  },
  {
   "cell_type": "markdown",
   "metadata": {},
   "source": [
    "## Stats by month"
   ]
  },
  {
   "cell_type": "code",
   "execution_count": 331,
   "metadata": {
    "collapsed": false
   },
   "outputs": [
    {
     "data": {
      "text/html": [
       "<div>\n",
       "<table border=\"1\" class=\"dataframe\">\n",
       "  <thead>\n",
       "    <tr style=\"text-align: right;\">\n",
       "      <th></th>\n",
       "      <th>search</th>\n",
       "      <th>seen</th>\n",
       "      <th>download</th>\n",
       "      <th>viewed_records</th>\n",
       "      <th>viewed_media</th>\n",
       "    </tr>\n",
       "  </thead>\n",
       "  <tbody>\n",
       "    <tr>\n",
       "      <th>2015-07-01</th>\n",
       "      <td>510681153547</td>\n",
       "      <td>56620791</td>\n",
       "      <td>36216970</td>\n",
       "      <td>844316</td>\n",
       "      <td>35380</td>\n",
       "    </tr>\n",
       "    <tr>\n",
       "      <th>2015-08-01</th>\n",
       "      <td>150191776985</td>\n",
       "      <td>1554424</td>\n",
       "      <td>164335546</td>\n",
       "      <td>1844569</td>\n",
       "      <td>159294</td>\n",
       "    </tr>\n",
       "    <tr>\n",
       "      <th>2015-09-01</th>\n",
       "      <td>656873703499</td>\n",
       "      <td>62352551</td>\n",
       "      <td>48072809</td>\n",
       "      <td>3056466</td>\n",
       "      <td>179929</td>\n",
       "    </tr>\n",
       "    <tr>\n",
       "      <th>2015-10-01</th>\n",
       "      <td>471265570875</td>\n",
       "      <td>33473866</td>\n",
       "      <td>22530025</td>\n",
       "      <td>2465100</td>\n",
       "      <td>331703</td>\n",
       "    </tr>\n",
       "    <tr>\n",
       "      <th>2015-11-01</th>\n",
       "      <td>140262874790</td>\n",
       "      <td>2550362</td>\n",
       "      <td>2663794</td>\n",
       "      <td>5785702</td>\n",
       "      <td>775581</td>\n",
       "    </tr>\n",
       "    <tr>\n",
       "      <th>2015-12-01</th>\n",
       "      <td>819596616564</td>\n",
       "      <td>64832910</td>\n",
       "      <td>895372</td>\n",
       "      <td>1144401</td>\n",
       "      <td>167203</td>\n",
       "    </tr>\n",
       "    <tr>\n",
       "      <th>2016-01-01</th>\n",
       "      <td>163402526827</td>\n",
       "      <td>1505558</td>\n",
       "      <td>17664302</td>\n",
       "      <td>2004067</td>\n",
       "      <td>257794</td>\n",
       "    </tr>\n",
       "    <tr>\n",
       "      <th>2016-02-01</th>\n",
       "      <td>636392641209</td>\n",
       "      <td>43531078</td>\n",
       "      <td>368652</td>\n",
       "      <td>2097269</td>\n",
       "      <td>297396</td>\n",
       "    </tr>\n",
       "    <tr>\n",
       "      <th>2016-03-01</th>\n",
       "      <td>209468898311</td>\n",
       "      <td>18925149</td>\n",
       "      <td>368498</td>\n",
       "      <td>4864818</td>\n",
       "      <td>606178</td>\n",
       "    </tr>\n",
       "    <tr>\n",
       "      <th>2016-04-01</th>\n",
       "      <td>231915095898</td>\n",
       "      <td>1629081</td>\n",
       "      <td>1499892</td>\n",
       "      <td>941139</td>\n",
       "      <td>77341</td>\n",
       "    </tr>\n",
       "  </tbody>\n",
       "</table>\n",
       "</div>"
      ],
      "text/latex": [
       "\\centering{\\begin{tabular}{lrrrrr}\n",
       "\\toprule\n",
       "{} &        search &      seen &   download &  viewed\\_records &  viewed\\_media \\\\\n",
       "\\midrule\n",
       "2015-07-01 &  510681153547 &  56620791 &   36216970 &          844316 &         35380 \\\\\n",
       "2015-08-01 &  150191776985 &   1554424 &  164335546 &         1844569 &        159294 \\\\\n",
       "2015-09-01 &  656873703499 &  62352551 &   48072809 &         3056466 &        179929 \\\\\n",
       "2015-10-01 &  471265570875 &  33473866 &   22530025 &         2465100 &        331703 \\\\\n",
       "2015-11-01 &  140262874790 &   2550362 &    2663794 &         5785702 &        775581 \\\\\n",
       "2015-12-01 &  819596616564 &  64832910 &     895372 &         1144401 &        167203 \\\\\n",
       "2016-01-01 &  163402526827 &   1505558 &   17664302 &         2004067 &        257794 \\\\\n",
       "2016-02-01 &  636392641209 &  43531078 &     368652 &         2097269 &        297396 \\\\\n",
       "2016-03-01 &  209468898311 &  18925149 &     368498 &         4864818 &        606178 \\\\\n",
       "2016-04-01 &  231915095898 &   1629081 &    1499892 &          941139 &         77341 \\\\\n",
       "\\bottomrule\n",
       "\\end{tabular}\n",
       "}"
      ],
      "text/plain": [
       "                  search      seen   download  viewed_records  viewed_media\n",
       "2015-07-01  510681153547  56620791   36216970          844316         35380\n",
       "2015-08-01  150191776985   1554424  164335546         1844569        159294\n",
       "2015-09-01  656873703499  62352551   48072809         3056466        179929\n",
       "2015-10-01  471265570875  33473866   22530025         2465100        331703\n",
       "2015-11-01  140262874790   2550362    2663794         5785702        775581\n",
       "2015-12-01  819596616564  64832910     895372         1144401        167203\n",
       "2016-01-01  163402526827   1505558   17664302         2004067        257794\n",
       "2016-02-01  636392641209  43531078     368652         2097269        297396\n",
       "2016-03-01  209468898311  18925149     368498         4864818        606178\n",
       "2016-04-01  231915095898   1629081    1499892          941139         77341"
      ]
     },
     "execution_count": 331,
     "metadata": {},
     "output_type": "execute_result"
    }
   ],
   "source": [
    "dfmonth"
   ]
  },
  {
   "cell_type": "code",
   "execution_count": 315,
   "metadata": {
    "collapsed": false
   },
   "outputs": [
    {
     "data": {
      "text/plain": [
       "count                      6843\n",
       "search            3990050858505\n",
       "seen                  286975770\n",
       "viewed_media            2887799\n",
       "download              294615860\n",
       "viewed_records         25047847\n",
       "dtype: int64"
      ]
     },
     "execution_count": 315,
     "metadata": {},
     "output_type": "execute_result"
    }
   ],
   "source": [
    "dfmonth.sum()"
   ]
  },
  {
   "cell_type": "code",
   "execution_count": 332,
   "metadata": {
    "collapsed": false
   },
   "outputs": [],
   "source": [
    "statsbyweek = {week: sumseries(data.values()) \n",
    "               for week, data in ssweekly.items()}\n",
    "df = pd.DataFrame.from_dict(statsbyweek, orient='index')\n",
    "dfweek = df[['search','seen','download', 'viewed_records', 'viewed_media']]"
   ]
  },
  {
   "cell_type": "code",
   "execution_count": 333,
   "metadata": {
    "collapsed": true
   },
   "outputs": [],
   "source": [
    "df = pd.DataFrame.from_dict(statsbyweek, orient='index')\n",
    "df = df[['search','seen','download', 'viewed_records', 'viewed_media']]"
   ]
  },
  {
   "cell_type": "markdown",
   "metadata": {},
   "source": [
    "## Stats by week"
   ]
  },
  {
   "cell_type": "code",
   "execution_count": 334,
   "metadata": {
    "collapsed": false
   },
   "outputs": [
    {
     "data": {
      "text/html": [
       "<div>\n",
       "<table border=\"1\" class=\"dataframe\">\n",
       "  <thead>\n",
       "    <tr style=\"text-align: right;\">\n",
       "      <th></th>\n",
       "      <th>search</th>\n",
       "      <th>seen</th>\n",
       "      <th>download</th>\n",
       "      <th>viewed_records</th>\n",
       "      <th>viewed_media</th>\n",
       "    </tr>\n",
       "  </thead>\n",
       "  <tbody>\n",
       "    <tr>\n",
       "      <th>2015-06-29</th>\n",
       "      <td>32550933360</td>\n",
       "      <td>293547</td>\n",
       "      <td>440179</td>\n",
       "      <td>611608</td>\n",
       "      <td>24287</td>\n",
       "    </tr>\n",
       "    <tr>\n",
       "      <th>2015-07-06</th>\n",
       "      <td>24084303784</td>\n",
       "      <td>159848</td>\n",
       "      <td>32280649</td>\n",
       "      <td>92625</td>\n",
       "      <td>7191</td>\n",
       "    </tr>\n",
       "    <tr>\n",
       "      <th>2015-07-13</th>\n",
       "      <td>10725967254</td>\n",
       "      <td>71377</td>\n",
       "      <td>3496053</td>\n",
       "      <td>59071</td>\n",
       "      <td>2463</td>\n",
       "    </tr>\n",
       "    <tr>\n",
       "      <th>2015-07-20</th>\n",
       "      <td>418603045546</td>\n",
       "      <td>55830447</td>\n",
       "      <td>89</td>\n",
       "      <td>206219</td>\n",
       "      <td>5654</td>\n",
       "    </tr>\n",
       "    <tr>\n",
       "      <th>2015-07-27</th>\n",
       "      <td>36781604306</td>\n",
       "      <td>369060</td>\n",
       "      <td>34160</td>\n",
       "      <td>260989</td>\n",
       "      <td>12237</td>\n",
       "    </tr>\n",
       "    <tr>\n",
       "      <th>2015-08-03</th>\n",
       "      <td>35438259306</td>\n",
       "      <td>232478</td>\n",
       "      <td>30875162</td>\n",
       "      <td>469984</td>\n",
       "      <td>16257</td>\n",
       "    </tr>\n",
       "    <tr>\n",
       "      <th>2015-08-10</th>\n",
       "      <td>24695612197</td>\n",
       "      <td>243450</td>\n",
       "      <td>86924346</td>\n",
       "      <td>263234</td>\n",
       "      <td>16381</td>\n",
       "    </tr>\n",
       "    <tr>\n",
       "      <th>2015-08-17</th>\n",
       "      <td>42251987774</td>\n",
       "      <td>716324</td>\n",
       "      <td>319700</td>\n",
       "      <td>470232</td>\n",
       "      <td>52914</td>\n",
       "    </tr>\n",
       "    <tr>\n",
       "      <th>2015-08-24</th>\n",
       "      <td>41109556390</td>\n",
       "      <td>310939</td>\n",
       "      <td>46182178</td>\n",
       "      <td>524608</td>\n",
       "      <td>67948</td>\n",
       "    </tr>\n",
       "    <tr>\n",
       "      <th>2015-08-31</th>\n",
       "      <td>20518074344</td>\n",
       "      <td>198997</td>\n",
       "      <td>1744165</td>\n",
       "      <td>404066</td>\n",
       "      <td>28635</td>\n",
       "    </tr>\n",
       "    <tr>\n",
       "      <th>2015-09-07</th>\n",
       "      <td>83994537913</td>\n",
       "      <td>5915760</td>\n",
       "      <td>44824344</td>\n",
       "      <td>667896</td>\n",
       "      <td>39917</td>\n",
       "    </tr>\n",
       "    <tr>\n",
       "      <th>2015-09-14</th>\n",
       "      <td>512938145340</td>\n",
       "      <td>55418000</td>\n",
       "      <td>263062</td>\n",
       "      <td>830191</td>\n",
       "      <td>37334</td>\n",
       "    </tr>\n",
       "    <tr>\n",
       "      <th>2015-09-21</th>\n",
       "      <td>26318681183</td>\n",
       "      <td>705248</td>\n",
       "      <td>891312</td>\n",
       "      <td>512524</td>\n",
       "      <td>24241</td>\n",
       "    </tr>\n",
       "    <tr>\n",
       "      <th>2015-09-28</th>\n",
       "      <td>34124644588</td>\n",
       "      <td>306991</td>\n",
       "      <td>531932</td>\n",
       "      <td>1221789</td>\n",
       "      <td>127097</td>\n",
       "    </tr>\n",
       "    <tr>\n",
       "      <th>2015-10-05</th>\n",
       "      <td>30099476949</td>\n",
       "      <td>254305</td>\n",
       "      <td>21370728</td>\n",
       "      <td>736353</td>\n",
       "      <td>79905</td>\n",
       "    </tr>\n",
       "    <tr>\n",
       "      <th>2015-10-12</th>\n",
       "      <td>30038836796</td>\n",
       "      <td>332975</td>\n",
       "      <td>441983</td>\n",
       "      <td>602922</td>\n",
       "      <td>82587</td>\n",
       "    </tr>\n",
       "    <tr>\n",
       "      <th>2015-10-19</th>\n",
       "      <td>362521995776</td>\n",
       "      <td>32392865</td>\n",
       "      <td>390439</td>\n",
       "      <td>367659</td>\n",
       "      <td>68705</td>\n",
       "    </tr>\n",
       "    <tr>\n",
       "      <th>2015-10-26</th>\n",
       "      <td>31482956554</td>\n",
       "      <td>335069</td>\n",
       "      <td>144869</td>\n",
       "      <td>336073</td>\n",
       "      <td>29295</td>\n",
       "    </tr>\n",
       "    <tr>\n",
       "      <th>2015-11-02</th>\n",
       "      <td>36196351462</td>\n",
       "      <td>326897</td>\n",
       "      <td>2316002</td>\n",
       "      <td>723324</td>\n",
       "      <td>97067</td>\n",
       "    </tr>\n",
       "    <tr>\n",
       "      <th>2015-11-09</th>\n",
       "      <td>34243213266</td>\n",
       "      <td>629658</td>\n",
       "      <td>318332</td>\n",
       "      <td>990043</td>\n",
       "      <td>105060</td>\n",
       "    </tr>\n",
       "    <tr>\n",
       "      <th>2015-11-16</th>\n",
       "      <td>34119732561</td>\n",
       "      <td>946349</td>\n",
       "      <td>25636</td>\n",
       "      <td>2201408</td>\n",
       "      <td>215934</td>\n",
       "    </tr>\n",
       "    <tr>\n",
       "      <th>2015-11-23</th>\n",
       "      <td>29707730805</td>\n",
       "      <td>598290</td>\n",
       "      <td>3824</td>\n",
       "      <td>1709259</td>\n",
       "      <td>347179</td>\n",
       "    </tr>\n",
       "    <tr>\n",
       "      <th>2015-11-30</th>\n",
       "      <td>289117787105</td>\n",
       "      <td>26087565</td>\n",
       "      <td>201813</td>\n",
       "      <td>574335</td>\n",
       "      <td>90405</td>\n",
       "    </tr>\n",
       "    <tr>\n",
       "      <th>2015-12-07</th>\n",
       "      <td>108922210380</td>\n",
       "      <td>511714</td>\n",
       "      <td>0</td>\n",
       "      <td>154197</td>\n",
       "      <td>24163</td>\n",
       "    </tr>\n",
       "    <tr>\n",
       "      <th>2015-12-14</th>\n",
       "      <td>31203819874</td>\n",
       "      <td>298952</td>\n",
       "      <td>499661</td>\n",
       "      <td>167909</td>\n",
       "      <td>23249</td>\n",
       "    </tr>\n",
       "    <tr>\n",
       "      <th>2015-12-21</th>\n",
       "      <td>20741422148</td>\n",
       "      <td>241099</td>\n",
       "      <td>32555</td>\n",
       "      <td>210228</td>\n",
       "      <td>23675</td>\n",
       "    </tr>\n",
       "    <tr>\n",
       "      <th>2015-12-28</th>\n",
       "      <td>378654850186</td>\n",
       "      <td>37759916</td>\n",
       "      <td>163425</td>\n",
       "      <td>126457</td>\n",
       "      <td>18685</td>\n",
       "    </tr>\n",
       "    <tr>\n",
       "      <th>2016-01-04</th>\n",
       "      <td>34040722961</td>\n",
       "      <td>525942</td>\n",
       "      <td>2638</td>\n",
       "      <td>176569</td>\n",
       "      <td>21972</td>\n",
       "    </tr>\n",
       "    <tr>\n",
       "      <th>2016-01-11</th>\n",
       "      <td>39569873411</td>\n",
       "      <td>349046</td>\n",
       "      <td>5041802</td>\n",
       "      <td>388447</td>\n",
       "      <td>48672</td>\n",
       "    </tr>\n",
       "    <tr>\n",
       "      <th>2016-01-18</th>\n",
       "      <td>41724589742</td>\n",
       "      <td>318882</td>\n",
       "      <td>115726</td>\n",
       "      <td>844841</td>\n",
       "      <td>116908</td>\n",
       "    </tr>\n",
       "    <tr>\n",
       "      <th>2016-01-25</th>\n",
       "      <td>41862459627</td>\n",
       "      <td>266541</td>\n",
       "      <td>12502054</td>\n",
       "      <td>545138</td>\n",
       "      <td>62527</td>\n",
       "    </tr>\n",
       "    <tr>\n",
       "      <th>2016-02-01</th>\n",
       "      <td>468231503554</td>\n",
       "      <td>40517932</td>\n",
       "      <td>49411</td>\n",
       "      <td>427334</td>\n",
       "      <td>41435</td>\n",
       "    </tr>\n",
       "    <tr>\n",
       "      <th>2016-02-08</th>\n",
       "      <td>40899065103</td>\n",
       "      <td>645600</td>\n",
       "      <td>48902</td>\n",
       "      <td>627723</td>\n",
       "      <td>78871</td>\n",
       "    </tr>\n",
       "    <tr>\n",
       "      <th>2016-02-15</th>\n",
       "      <td>38211892137</td>\n",
       "      <td>489821</td>\n",
       "      <td>178331</td>\n",
       "      <td>335293</td>\n",
       "      <td>43473</td>\n",
       "    </tr>\n",
       "    <tr>\n",
       "      <th>2016-02-22</th>\n",
       "      <td>86348103942</td>\n",
       "      <td>1608153</td>\n",
       "      <td>92008</td>\n",
       "      <td>519530</td>\n",
       "      <td>82329</td>\n",
       "    </tr>\n",
       "    <tr>\n",
       "      <th>2016-02-29</th>\n",
       "      <td>41931746022</td>\n",
       "      <td>884462</td>\n",
       "      <td>187248</td>\n",
       "      <td>1054653</td>\n",
       "      <td>232213</td>\n",
       "    </tr>\n",
       "    <tr>\n",
       "      <th>2016-03-07</th>\n",
       "      <td>43732350716</td>\n",
       "      <td>462942</td>\n",
       "      <td>147040</td>\n",
       "      <td>2171279</td>\n",
       "      <td>264550</td>\n",
       "    </tr>\n",
       "    <tr>\n",
       "      <th>2016-03-14</th>\n",
       "      <td>40957697590</td>\n",
       "      <td>8050345</td>\n",
       "      <td>1833</td>\n",
       "      <td>1510896</td>\n",
       "      <td>141250</td>\n",
       "    </tr>\n",
       "    <tr>\n",
       "      <th>2016-03-21</th>\n",
       "      <td>28453417522</td>\n",
       "      <td>9060653</td>\n",
       "      <td>76</td>\n",
       "      <td>190378</td>\n",
       "      <td>13384</td>\n",
       "    </tr>\n",
       "    <tr>\n",
       "      <th>2016-03-28</th>\n",
       "      <td>75258272098</td>\n",
       "      <td>835609</td>\n",
       "      <td>110957</td>\n",
       "      <td>419627</td>\n",
       "      <td>19786</td>\n",
       "    </tr>\n",
       "    <tr>\n",
       "      <th>2016-04-04</th>\n",
       "      <td>57743519653</td>\n",
       "      <td>413877</td>\n",
       "      <td>416692</td>\n",
       "      <td>424767</td>\n",
       "      <td>47001</td>\n",
       "    </tr>\n",
       "    <tr>\n",
       "      <th>2016-04-11</th>\n",
       "      <td>54332393809</td>\n",
       "      <td>361891</td>\n",
       "      <td>278434</td>\n",
       "      <td>98389</td>\n",
       "      <td>6383</td>\n",
       "    </tr>\n",
       "    <tr>\n",
       "      <th>2016-04-18</th>\n",
       "      <td>42067694348</td>\n",
       "      <td>315044</td>\n",
       "      <td>580158</td>\n",
       "      <td>61269</td>\n",
       "      <td>5062</td>\n",
       "    </tr>\n",
       "    <tr>\n",
       "      <th>2016-04-25</th>\n",
       "      <td>61863823903</td>\n",
       "      <td>455565</td>\n",
       "      <td>145973</td>\n",
       "      <td>70197</td>\n",
       "      <td>5691</td>\n",
       "    </tr>\n",
       "    <tr>\n",
       "      <th>2016-05-02</th>\n",
       "      <td>56733194984</td>\n",
       "      <td>430652</td>\n",
       "      <td>256530</td>\n",
       "      <td>170535</td>\n",
       "      <td>14954</td>\n",
       "    </tr>\n",
       "  </tbody>\n",
       "</table>\n",
       "</div>"
      ],
      "text/latex": [
       "\\centering{\\begin{tabular}{lrrrrr}\n",
       "\\toprule\n",
       "{} &        search &      seen &  download &  viewed\\_records &  viewed\\_media \\\\\n",
       "\\midrule\n",
       "2015-06-29 &   32550933360 &    293547 &    440179 &          611608 &         24287 \\\\\n",
       "2015-07-06 &   24084303784 &    159848 &  32280649 &           92625 &          7191 \\\\\n",
       "2015-07-13 &   10725967254 &     71377 &   3496053 &           59071 &          2463 \\\\\n",
       "2015-07-20 &  418603045546 &  55830447 &        89 &          206219 &          5654 \\\\\n",
       "2015-07-27 &   36781604306 &    369060 &     34160 &          260989 &         12237 \\\\\n",
       "2015-08-03 &   35438259306 &    232478 &  30875162 &          469984 &         16257 \\\\\n",
       "2015-08-10 &   24695612197 &    243450 &  86924346 &          263234 &         16381 \\\\\n",
       "2015-08-17 &   42251987774 &    716324 &    319700 &          470232 &         52914 \\\\\n",
       "2015-08-24 &   41109556390 &    310939 &  46182178 &          524608 &         67948 \\\\\n",
       "2015-08-31 &   20518074344 &    198997 &   1744165 &          404066 &         28635 \\\\\n",
       "2015-09-07 &   83994537913 &   5915760 &  44824344 &          667896 &         39917 \\\\\n",
       "2015-09-14 &  512938145340 &  55418000 &    263062 &          830191 &         37334 \\\\\n",
       "2015-09-21 &   26318681183 &    705248 &    891312 &          512524 &         24241 \\\\\n",
       "2015-09-28 &   34124644588 &    306991 &    531932 &         1221789 &        127097 \\\\\n",
       "2015-10-05 &   30099476949 &    254305 &  21370728 &          736353 &         79905 \\\\\n",
       "2015-10-12 &   30038836796 &    332975 &    441983 &          602922 &         82587 \\\\\n",
       "2015-10-19 &  362521995776 &  32392865 &    390439 &          367659 &         68705 \\\\\n",
       "2015-10-26 &   31482956554 &    335069 &    144869 &          336073 &         29295 \\\\\n",
       "2015-11-02 &   36196351462 &    326897 &   2316002 &          723324 &         97067 \\\\\n",
       "2015-11-09 &   34243213266 &    629658 &    318332 &          990043 &        105060 \\\\\n",
       "2015-11-16 &   34119732561 &    946349 &     25636 &         2201408 &        215934 \\\\\n",
       "2015-11-23 &   29707730805 &    598290 &      3824 &         1709259 &        347179 \\\\\n",
       "2015-11-30 &  289117787105 &  26087565 &    201813 &          574335 &         90405 \\\\\n",
       "2015-12-07 &  108922210380 &    511714 &         0 &          154197 &         24163 \\\\\n",
       "2015-12-14 &   31203819874 &    298952 &    499661 &          167909 &         23249 \\\\\n",
       "2015-12-21 &   20741422148 &    241099 &     32555 &          210228 &         23675 \\\\\n",
       "2015-12-28 &  378654850186 &  37759916 &    163425 &          126457 &         18685 \\\\\n",
       "2016-01-04 &   34040722961 &    525942 &      2638 &          176569 &         21972 \\\\\n",
       "2016-01-11 &   39569873411 &    349046 &   5041802 &          388447 &         48672 \\\\\n",
       "2016-01-18 &   41724589742 &    318882 &    115726 &          844841 &        116908 \\\\\n",
       "2016-01-25 &   41862459627 &    266541 &  12502054 &          545138 &         62527 \\\\\n",
       "2016-02-01 &  468231503554 &  40517932 &     49411 &          427334 &         41435 \\\\\n",
       "2016-02-08 &   40899065103 &    645600 &     48902 &          627723 &         78871 \\\\\n",
       "2016-02-15 &   38211892137 &    489821 &    178331 &          335293 &         43473 \\\\\n",
       "2016-02-22 &   86348103942 &   1608153 &     92008 &          519530 &         82329 \\\\\n",
       "2016-02-29 &   41931746022 &    884462 &    187248 &         1054653 &        232213 \\\\\n",
       "2016-03-07 &   43732350716 &    462942 &    147040 &         2171279 &        264550 \\\\\n",
       "2016-03-14 &   40957697590 &   8050345 &      1833 &         1510896 &        141250 \\\\\n",
       "2016-03-21 &   28453417522 &   9060653 &        76 &          190378 &         13384 \\\\\n",
       "2016-03-28 &   75258272098 &    835609 &    110957 &          419627 &         19786 \\\\\n",
       "2016-04-04 &   57743519653 &    413877 &    416692 &          424767 &         47001 \\\\\n",
       "2016-04-11 &   54332393809 &    361891 &    278434 &           98389 &          6383 \\\\\n",
       "2016-04-18 &   42067694348 &    315044 &    580158 &           61269 &          5062 \\\\\n",
       "2016-04-25 &   61863823903 &    455565 &    145973 &           70197 &          5691 \\\\\n",
       "2016-05-02 &   56733194984 &    430652 &    256530 &          170535 &         14954 \\\\\n",
       "\\bottomrule\n",
       "\\end{tabular}\n",
       "}"
      ],
      "text/plain": [
       "                  search      seen  download  viewed_records  viewed_media\n",
       "2015-06-29   32550933360    293547    440179          611608         24287\n",
       "2015-07-06   24084303784    159848  32280649           92625          7191\n",
       "2015-07-13   10725967254     71377   3496053           59071          2463\n",
       "2015-07-20  418603045546  55830447        89          206219          5654\n",
       "2015-07-27   36781604306    369060     34160          260989         12237\n",
       "2015-08-03   35438259306    232478  30875162          469984         16257\n",
       "2015-08-10   24695612197    243450  86924346          263234         16381\n",
       "2015-08-17   42251987774    716324    319700          470232         52914\n",
       "2015-08-24   41109556390    310939  46182178          524608         67948\n",
       "2015-08-31   20518074344    198997   1744165          404066         28635\n",
       "2015-09-07   83994537913   5915760  44824344          667896         39917\n",
       "2015-09-14  512938145340  55418000    263062          830191         37334\n",
       "2015-09-21   26318681183    705248    891312          512524         24241\n",
       "2015-09-28   34124644588    306991    531932         1221789        127097\n",
       "2015-10-05   30099476949    254305  21370728          736353         79905\n",
       "2015-10-12   30038836796    332975    441983          602922         82587\n",
       "2015-10-19  362521995776  32392865    390439          367659         68705\n",
       "2015-10-26   31482956554    335069    144869          336073         29295\n",
       "2015-11-02   36196351462    326897   2316002          723324         97067\n",
       "2015-11-09   34243213266    629658    318332          990043        105060\n",
       "2015-11-16   34119732561    946349     25636         2201408        215934\n",
       "2015-11-23   29707730805    598290      3824         1709259        347179\n",
       "2015-11-30  289117787105  26087565    201813          574335         90405\n",
       "2015-12-07  108922210380    511714         0          154197         24163\n",
       "2015-12-14   31203819874    298952    499661          167909         23249\n",
       "2015-12-21   20741422148    241099     32555          210228         23675\n",
       "2015-12-28  378654850186  37759916    163425          126457         18685\n",
       "2016-01-04   34040722961    525942      2638          176569         21972\n",
       "2016-01-11   39569873411    349046   5041802          388447         48672\n",
       "2016-01-18   41724589742    318882    115726          844841        116908\n",
       "2016-01-25   41862459627    266541  12502054          545138         62527\n",
       "2016-02-01  468231503554  40517932     49411          427334         41435\n",
       "2016-02-08   40899065103    645600     48902          627723         78871\n",
       "2016-02-15   38211892137    489821    178331          335293         43473\n",
       "2016-02-22   86348103942   1608153     92008          519530         82329\n",
       "2016-02-29   41931746022    884462    187248         1054653        232213\n",
       "2016-03-07   43732350716    462942    147040         2171279        264550\n",
       "2016-03-14   40957697590   8050345      1833         1510896        141250\n",
       "2016-03-21   28453417522   9060653        76          190378         13384\n",
       "2016-03-28   75258272098    835609    110957          419627         19786\n",
       "2016-04-04   57743519653    413877    416692          424767         47001\n",
       "2016-04-11   54332393809    361891    278434           98389          6383\n",
       "2016-04-18   42067694348    315044    580158           61269          5062\n",
       "2016-04-25   61863823903    455565    145973           70197          5691\n",
       "2016-05-02   56733194984    430652    256530          170535         14954"
      ]
     },
     "execution_count": 334,
     "metadata": {},
     "output_type": "execute_result"
    }
   ],
   "source": [
    "dfweek"
   ]
  },
  {
   "cell_type": "code",
   "execution_count": 319,
   "metadata": {
    "collapsed": false
   },
   "outputs": [
    {
     "data": {
      "text/plain": [
       "search            4055148058269\n",
       "seen                  287481077\n",
       "download              294872411\n",
       "viewed_records         25532068\n",
       "viewed_media            2914926\n",
       "dtype: int64"
      ]
     },
     "execution_count": 319,
     "metadata": {},
     "output_type": "execute_result"
    }
   ],
   "source": [
    "dfweek.sum()"
   ]
  },
  {
   "cell_type": "markdown",
   "metadata": {},
   "source": [
    "##  plots"
   ]
  },
  {
   "cell_type": "code",
   "execution_count": 338,
   "metadata": {
    "collapsed": false,
    "scrolled": false
   },
   "outputs": [
    {
     "data": {
      "text/plain": [
       "<matplotlib.axes._subplots.AxesSubplot at 0x7fc37e4f59e8>"
      ]
     },
     "execution_count": 338,
     "metadata": {},
     "output_type": "execute_result"
    },
    {
     "data": {
      "image/png": "[encoded data removed]",
      "text/plain": [
       "<matplotlib.figure.Figure at 0x7fc381b385c0>"
      ]
     },
     "metadata": {},
     "output_type": "display_data"
    }
   ],
   "source": [
    "dfweek.plot(figsize=(16,4))"
   ]
  },
  {
   "cell_type": "markdown",
   "metadata": {},
   "source": [
    "plotting all of them on one chart wasn't very useful because the search results \n",
    "is so much larger than everything else"
   ]
  },
  {
   "cell_type": "code",
   "execution_count": 339,
   "metadata": {
    "collapsed": false,
    "scrolled": false
   },
   "outputs": [
    {
     "data": {
      "image/png": "[encoded data removed]",
      "text/plain": [
       "<matplotlib.figure.Figure at 0x7fc380af1cc0>"
      ]
     },
     "metadata": {},
     "output_type": "display_data"
    }
   ],
   "source": [
    "fig = dfweek.plot(kind='bar',\n",
    "              figsize=(20,15),\n",
    "              subplots=True, \n",
    "              sharex=False, \n",
    "              fontsize=8,\n",
    "              rot=70,\n",
    "             )"
   ]
  },
  {
   "cell_type": "code",
   "execution_count": null,
   "metadata": {
    "collapsed": true
   },
   "outputs": [],
   "source": []
  },
  {
   "cell_type": "code",
   "execution_count": null,
   "metadata": {
    "collapsed": true
   },
   "outputs": [],
   "source": []
  },
  {
   "cell_type": "code",
   "execution_count": null,
   "metadata": {
    "collapsed": true
   },
   "outputs": [],
   "source": []
  },
  {
   "cell_type": "code",
   "execution_count": 327,
   "metadata": {
    "collapsed": false
   },
   "outputs": [],
   "source": [
    "import pandas as pd\n",
    "\n",
    "pd.set_option('display.notebook_repr_html', True)\n",
    "\n",
    "def _repr_latex_(self):\n",
    "    return \"\\centering{%s}\" % self.to_latex()\n",
    "\n",
    "pd.DataFrame._repr_latex_ = _repr_latex_  # monkey patch pandas DataFrame"
   ]
  },
  {
   "cell_type": "code",
   "execution_count": 340,
   "metadata": {
    "collapsed": false
   },
   "outputs": [
    {
     "ename": "SyntaxError",
     "evalue": "keyword can't be an expression (<ipython-input-340-d23a00e9eda5>, line 1)",
     "output_type": "error",
     "traceback": [
      "\u001b[1;36m  File \u001b[1;32m\"<ipython-input-340-d23a00e9eda5>\"\u001b[1;36m, line \u001b[1;32m1\u001b[0m\n\u001b[1;33m    options(jupyter.plot_mimetypes = \"image/svg+xml\")\u001b[0m\n\u001b[1;37m           ^\u001b[0m\n\u001b[1;31mSyntaxError\u001b[0m\u001b[1;31m:\u001b[0m keyword can't be an expression\n"
     ]
    }
   ],
   "source": [
    "options(jupyter.plot_mimetypes = \"image/svg+xml\")"
   ]
  },
  {
   "cell_type": "code",
   "execution_count": null,
   "metadata": {
    "collapsed": true
   },
   "outputs": [],
   "source": []
  },
  {
   "cell_type": "code",
   "execution_count": null,
   "metadata": {
    "collapsed": true
   },
   "outputs": [],
   "source": []
  },
  {
   "cell_type": "code",
   "execution_count": null,
   "metadata": {
    "collapsed": true
   },
   "outputs": [],
   "source": []
  },
  {
   "cell_type": "code",
   "execution_count": null,
   "metadata": {
    "collapsed": true
   },
   "outputs": [],
   "source": []
  },
  {
   "cell_type": "code",
   "execution_count": null,
   "metadata": {
    "collapsed": true
   },
   "outputs": [],
   "source": []
  },
  {
   "cell_type": "code",
   "execution_count": null,
   "metadata": {
    "collapsed": true
   },
   "outputs": [],
   "source": []
  },
  {
   "cell_type": "code",
   "execution_count": null,
   "metadata": {
    "collapsed": true
   },
   "outputs": [],
   "source": []
  },
  {
   "cell_type": "code",
   "execution_count": null,
   "metadata": {
    "collapsed": true
   },
   "outputs": [],
   "source": []
  }
 ],
 "metadata": {
  "kernelspec": {
   "display_name": "idigbio-python-client (py3)",
   "language": "python",
   "name": "idigbio-python-client3"
  },
  "language_info": {
   "codemirror_mode": {
    "name": "ipython",
    "version": 3
   },
   "file_extension": ".py",
   "mimetype": "text/x-python",
   "name": "python",
   "nbconvert_exporter": "python",
   "pygments_lexer": "ipython3",
   "version": "3.5.1+"
  }
 },
 "nbformat": 4,
 "nbformat_minor": 0
}
